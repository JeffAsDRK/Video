{
 "cells": [
  {
   "cell_type": "code",
   "execution_count": null,
   "id": "2928e174",
   "metadata": {},
   "outputs": [],
   "source": [
    "import subprocess\n",
    "import yt_dlp\n",
    "\n",
    "FFMPEG_PATH = 'C:/ffmpeg-7.1.1/bin/ffmpeg.exe'\n",
    "yt_url = 'https://www.youtube.com/watch?v=9bZkp7q19f0'\n",
    "output_path = 'E:/Users/Documents/Trabajo_grande/Video/live.mp4'\n",
    "duracion_segundos = 320\n",
    "\n",
    "# Obtener mejor URL de video con yt-dlp\n",
    "ydl_opts = {\n",
    "    'quiet': True,\n",
    "    'format': 'best[ext=mp4]/best',\n",
    "    'noplaylist': True,\n",
    "}\n",
    "\n",
    "with yt_dlp.YoutubeDL(ydl_opts) as ydl:\n",
    "    info = ydl.extract_info(yt_url, download=False)\n",
    "    stream_url = info['url']\n",
    "\n",
    "# Ejecutar ffmpeg con URL directa\n",
    "subprocess.run([\n",
    "    FFMPEG_PATH,\n",
    "    \"-i\", stream_url,\n",
    "    \"-t\", str(duracion_segundos),\n",
    "    \"-vcodec\", \"libx264\",\n",
    "    \"-preset\", \"ultrafast\",\n",
    "    \"-crf\", \"28\",\n",
    "    \"-acodec\", \"aac\",\n",
    "    \"-b:a\", \"96k\",\n",
    "    output_path,\n",
    "])\n"
   ]
  }
 ],
 "metadata": {
  "kernelspec": {
   "display_name": "trabajo",
   "language": "python",
   "name": "python3"
  },
  "language_info": {
   "codemirror_mode": {
    "name": "ipython",
    "version": 3
   },
   "file_extension": ".py",
   "mimetype": "text/x-python",
   "name": "python",
   "nbconvert_exporter": "python",
   "pygments_lexer": "ipython3",
   "version": "3.11.13"
  }
 },
 "nbformat": 4,
 "nbformat_minor": 5
}
